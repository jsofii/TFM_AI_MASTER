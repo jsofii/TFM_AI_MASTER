{
 "cells": [
  {
   "cell_type": "code",
   "id": "initial_id",
   "metadata": {
    "collapsed": true,
    "ExecuteTime": {
     "end_time": "2024-08-17T00:12:51.211375Z",
     "start_time": "2024-08-17T00:12:51.202335Z"
    }
   },
   "source": [
    "import os\n",
    "import librosa\n",
    "import numpy as np\n",
    "import pandas as pd\n",
    "\n",
    "# Función para extraer características de un archivo de audio\n",
    "def extract_features(file_name):\n",
    "    # Cargar el archivo de audio\n",
    "    y, sr = librosa.load(file_name, sr=None)\n",
    "\n",
    "    # Extraer MFCCs (Coeficientes Cepstrales de Frecuencia Mel)\n",
    "    mfccs = librosa.feature.mfcc(y=y, sr=sr, n_mfcc=13)\n",
    "    mfccs = np.mean(mfccs.T, axis=0)\n",
    "\n",
    "    # Extraer características de Chroma\n",
    "    chroma = librosa.feature.chroma_stft(y=y, sr=sr)\n",
    "    chroma = np.mean(chroma.T, axis=0)\n",
    "\n",
    "    # Extraer características de Contraste Espectral\n",
    "    spec_contrast = librosa.feature.spectral_contrast(y=y, sr=sr)\n",
    "    spec_contrast = np.mean(spec_contrast.T, axis=0)\n",
    "\n",
    "    # Extraer características de Tonnetz\n",
    "    tonnetz = librosa.feature.tonnetz(y=librosa.effects.harmonic(y), sr=sr)\n",
    "    tonnetz = np.mean(tonnetz.T, axis=0)\n",
    "\n",
    "    # Combinar todas las características extraídas en un solo vector\n",
    "    features = np.hstack([mfccs, chroma, spec_contrast, tonnetz])\n",
    "\n",
    "    return features\n",
    "\n",
    "# Directorio donde se encuentran tus archivos de audio\n",
    "audio_dir = 'data/audio'# Inicializar listas para almacenar características y etiquetas\n",
    "features_list = []\n",
    "labels_list = []\n",
    "\n",
    "# Iterar a través de cada archivo de audio en el directorio\n",
    "for file_name in os.listdir(audio_dir):\n",
    "    if file_name.endswith('.wav'):\n",
    "        file_path = os.path.join(audio_dir, file_name)\n",
    "        \n",
    "        # Extraer características del archivo de audio\n",
    "        features = extract_features(file_path)\n",
    "        \n",
    "        # Agregar las características y la etiqueta correspondiente a las listas\n",
    "        features_list.append(features)\n",
    "        \n",
    "        # Suponiendo que la etiqueta es parte del nombre del archivo (e.g., 02-01-05-01-01-01-01.wav)\n",
    "        label = file_name.split('-')[2]\n",
    "        labels_list.append(label)\n",
    "\n",
    "# Convertir las listas a un DataFrame de Pandas\n",
    "df = pd.DataFrame(features_list)\n",
    "df['label'] = labels_list\n",
    "\n",
    "# Guardar las características extraídas en un archivo CSV\n",
    "df.to_csv('ravdess_features.csv', index=False)\n",
    "\n",
    "print(\"La extracción de características se completó y se guardó en 'ravdess_features.csv'\")\n"
   ],
   "outputs": [
    {
     "name": "stdout",
     "output_type": "stream",
     "text": [
      "La extracción de características se completó y se guardó en 'ravdess_features.csv'\n"
     ]
    }
   ],
   "execution_count": 4
  },
  {
   "metadata": {},
   "cell_type": "code",
   "outputs": [],
   "execution_count": null,
   "source": "",
   "id": "feb50acc3536ee06"
  }
 ],
 "metadata": {
  "kernelspec": {
   "display_name": "Python 3",
   "language": "python",
   "name": "python3"
  },
  "language_info": {
   "codemirror_mode": {
    "name": "ipython",
    "version": 2
   },
   "file_extension": ".py",
   "mimetype": "text/x-python",
   "name": "python",
   "nbconvert_exporter": "python",
   "pygments_lexer": "ipython2",
   "version": "2.7.6"
  }
 },
 "nbformat": 4,
 "nbformat_minor": 5
}
